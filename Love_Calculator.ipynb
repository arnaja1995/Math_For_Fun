{
 "cells": [
  {
   "cell_type": "code",
   "execution_count": 1,
   "id": "5dd77986",
   "metadata": {},
   "outputs": [
    {
     "name": "stdout",
     "output_type": "stream",
     "text": [
      "Welcome to the Love Calculator!\n",
      "What is your name? \n",
      "Olivia\n",
      "What is their name? \n",
      "Jack\n",
      "Your score is 3, you go together like coke and mentos.\n"
     ]
    }
   ],
   "source": [
    "\"\"\"Python to calculate 'Love Score' between two people, done by Arnaja Mitra, for fun\"\"\"\n",
    "\n",
    "# Game Rule: \n",
    "# To work out the love score between two people:\n",
    "# Take both people's names and check for the number of times the letters in the word TRUE occurs. \n",
    "# Then check for the number of times the letters in the word LOVE occurs. \n",
    "# Then combine these numbers to make a 2 digit number.\n",
    "\n",
    "# For Love Scores less than 10 or greater than 90, the message should be:\n",
    "# \"Your score is **x**, you go together like coke and mentos.\"\n",
    "\n",
    "# For Love Scores between 40 and 50, the message should be:\n",
    "# \"Your score is **y**, you are alright together.\"\n",
    "\n",
    "# Otherwise, the message will just be their score. e.g.:\n",
    "# \"Your score is **z**.\"\n",
    "\n",
    "# Required information to collect:\n",
    "print(\"Welcome to the Love Calculator!\")\n",
    "name1 = input(\"What is your name? \\n\")\n",
    "name2 = input(\"What is their name? \\n\")\n",
    "\n",
    "# Change both name to lower case:\n",
    "n1 = name1.lower()\n",
    "n2 = name2.lower()\n",
    "\n",
    "# Count the total number of letters of 'TRUE' appear in both of the name:\n",
    "t = n1.count(\"t\") + n2.count(\"t\")\n",
    "r = n1.count(\"r\") + n2.count(\"r\")\n",
    "u = n1.count(\"u\") + n2.count(\"u\")\n",
    "e = n1.count(\"e\") + n2.count(\"e\")\n",
    "First_digit = t + r + u + e\n",
    "\n",
    "# Count the total number of letters of 'LOVE' appear in both of the name:\n",
    "l = n1.count(\"l\") + n2.count(\"l\")\n",
    "o = n1.count(\"o\") + n2.count(\"o\")\n",
    "v = n1.count(\"v\") + n2.count(\"v\")\n",
    "e = n1.count(\"e\") + n2.count(\"e\")\n",
    "Second_digit = l + o + v + e\n",
    "Score = int(str(First_digit)+str(Second_digit))\n",
    "\n",
    "# Mathematical logic behind the 'Love Score' calculation:\n",
    "if Score < 10 or Score >90:\n",
    "   print(f\"Your score is {Score}, you go together like coke and mentos.\")\n",
    "elif Score > 40 and Score < 50: \n",
    "    print(f\"Your score is {Score}, you are alright together.\")\n",
    "else:\n",
    "    print(f\"Your score is {Score}.\")\n"
   ]
  },
  {
   "cell_type": "code",
   "execution_count": null,
   "id": "7c6ed1a1",
   "metadata": {},
   "outputs": [],
   "source": []
  }
 ],
 "metadata": {
  "kernelspec": {
   "display_name": "Python 3 (ipykernel)",
   "language": "python",
   "name": "python3"
  },
  "language_info": {
   "codemirror_mode": {
    "name": "ipython",
    "version": 3
   },
   "file_extension": ".py",
   "mimetype": "text/x-python",
   "name": "python",
   "nbconvert_exporter": "python",
   "pygments_lexer": "ipython3",
   "version": "3.9.7"
  }
 },
 "nbformat": 4,
 "nbformat_minor": 5
}
