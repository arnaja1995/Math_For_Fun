{
 "cells": [
  {
   "cell_type": "code",
   "execution_count": 7,
   "id": "ab3d7d7a",
   "metadata": {},
   "outputs": [
    {
     "name": "stdout",
     "output_type": "stream",
     "text": [
      "What do you choose? Type 0 for Rock, 1 for Paper or 2 for Scissors. 2\n",
      "Your choice:\n",
      "\n",
      "    _______\n",
      "---'   ____)____\n",
      "          ______)\n",
      "       __________)\n",
      "      (____)\n",
      "---.__(___)\n",
      "\n",
      "Computer choice:\n",
      "\n",
      "    _______\n",
      "---'   ____)____\n",
      "          ______)\n",
      "          _______)\n",
      "         _______)\n",
      "---.__________)\n",
      "\n",
      "You win (:\n"
     ]
    }
   ],
   "source": [
    "\"\"\"ROCK-PAPER-SCISSORS game code, written by Arnaja Mitra\"\"\"\n",
    "import random\n",
    "rock = '''\n",
    "    _______\n",
    "---'   ____)\n",
    "      (_____)\n",
    "      (_____)\n",
    "      (____)\n",
    "---.__(___)\n",
    "'''\n",
    "\n",
    "paper = '''\n",
    "    _______\n",
    "---'   ____)____\n",
    "          ______)\n",
    "          _______)\n",
    "         _______)\n",
    "---.__________)\n",
    "'''\n",
    "\n",
    "scissors = '''\n",
    "    _______\n",
    "---'   ____)____\n",
    "          ______)\n",
    "       __________)\n",
    "      (____)\n",
    "---.__(___)\n",
    "'''\n",
    "Game_images = [rock, paper, scissors]\n",
    "\n",
    "#Printing player and computer choices \n",
    "player_choice = int(input(\"What do you choose? Type 0 for Rock, 1 for Paper or 2 for Scissors. \"))\n",
    "print(\"Your choice:\")\n",
    "print(Game_images[player_choice])\n",
    "\n",
    "computer_choice = random.choice([0, 1, 2])\n",
    "print(\"Computer choice:\")\n",
    "print(Game_images[computer_choice])\n",
    "\n",
    "#Printing game result\n",
    "if player_choice < 0 or player_choice > 2:\n",
    "    print(\"Please enter a valid number.\")\n",
    "elif player_choice == computer_choice:\n",
    "    print(\"It's a draw !!\")\n",
    "elif player_choice == 0 and computer_choice == 2:\n",
    "    print(\"You win (:\") \n",
    "elif player_choice == 2 and computer_choice == 0:\n",
    "    print(\"You lost ):\")\n",
    "elif player_choice > computer_choice:\n",
    "    print(\"You win (:\")\n",
    "elif player_choice < computer_choice:\n",
    "    print(\"You lost ):\")\n"
   ]
  },
  {
   "cell_type": "code",
   "execution_count": null,
   "id": "d6a2dacf",
   "metadata": {},
   "outputs": [],
   "source": []
  }
 ],
 "metadata": {
  "kernelspec": {
   "display_name": "Python 3 (ipykernel)",
   "language": "python",
   "name": "python3"
  },
  "language_info": {
   "codemirror_mode": {
    "name": "ipython",
    "version": 3
   },
   "file_extension": ".py",
   "mimetype": "text/x-python",
   "name": "python",
   "nbconvert_exporter": "python",
   "pygments_lexer": "ipython3",
   "version": "3.9.7"
  }
 },
 "nbformat": 4,
 "nbformat_minor": 5
}
