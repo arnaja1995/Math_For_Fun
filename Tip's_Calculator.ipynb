{
 "cells": [
  {
   "cell_type": "code",
   "execution_count": 1,
   "id": "26dd7a23",
   "metadata": {},
   "outputs": [
    {
     "name": "stdout",
     "output_type": "stream",
     "text": [
      "What is the actual bill? 150\n",
      "How many persons are there? 5\n",
      "How much tips you want to pay? 10\n",
      "Each person need to pay:  33.00\n"
     ]
    }
   ],
   "source": [
    "\"\"\"Python Code for 'Tip's Calculator' created by Arnaja Mitra\"\"\"\n",
    "#Information you need: \n",
    "Original_bill = input(\"What is the actual bill? \")\n",
    "Persons_head = input(\"How many persons are there? \")\n",
    "Tips_amount=input(\"How much tips you want to pay? \")\n",
    "\n",
    "#Be careful with data Types: \n",
    "Bill_to_calculate = float(Original_bill)\n",
    "Persons_count=int(Persons_head)\n",
    "Tips = float(Tips_amount)\n",
    "\n",
    "#Mathematical Calculation:\n",
    "Bill_per_head = float(Bill_to_calculate/Persons_count)\n",
    "Tips_fraction = (Tips/100)\n",
    "Calculate_the_bill = round((Bill_per_head + (Bill_per_head*Tips_fraction)),2)\n",
    "Calculate_the_bill = \"{:.2f}\".format(Calculate_the_bill)\n",
    "\n",
    "#Your desired answer: \n",
    "print(\"Each person need to pay: \", Calculate_the_bill)"
   ]
  },
  {
   "cell_type": "code",
   "execution_count": null,
   "id": "ce6baabb",
   "metadata": {},
   "outputs": [],
   "source": []
  }
 ],
 "metadata": {
  "kernelspec": {
   "display_name": "Python 3 (ipykernel)",
   "language": "python",
   "name": "python3"
  },
  "language_info": {
   "codemirror_mode": {
    "name": "ipython",
    "version": 3
   },
   "file_extension": ".py",
   "mimetype": "text/x-python",
   "name": "python",
   "nbconvert_exporter": "python",
   "pygments_lexer": "ipython3",
   "version": "3.9.7"
  }
 },
 "nbformat": 4,
 "nbformat_minor": 5
}
