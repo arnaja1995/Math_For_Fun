{
 "cells": [
  {
   "cell_type": "code",
   "execution_count": 1,
   "id": "00274691",
   "metadata": {},
   "outputs": [
    {
     "name": "stdout",
     "output_type": "stream",
     "text": [
      "Welcome to Python Pizza Order!!\n",
      "What size pizza do you want? S, M, or L L\n",
      "Do you want pepperoni? Y or N Y\n",
      "Do you want extra cheese? Y or N N\n",
      "Your final bill is: $28.\n"
     ]
    }
   ],
   "source": [
    "# Pizza information:\n",
    "#Small Pizza: $15\n",
    "#Medium Pizza: $20\n",
    "#Large Pizza: $25\n",
    "#Pepperoni for Small Pizza: +$2\n",
    "#Pepperoni for Medium or Large Pizza: +$3\n",
    "#Extra cheese for any size pizza: + $1\n",
    "\n",
    "\"\"\"Python for 'Pizza_Order' created by Arnaja Mitra\"\"\"\n",
    "\n",
    "# Let collect the order information:\n",
    "print(\"Welcome to Python Pizza Order!!\")\n",
    "size = input(\"What size pizza do you want? S, M, or L \")\n",
    "add_pepperoni = input(\"Do you want pepperoni? Y or N \")\n",
    "extra_cheese = input(\"Do you want extra cheese? Y or N \")\n",
    "\n",
    "# Mathematical logic based on pizza size, topping and corresponding price: \n",
    "Bill = 0\n",
    "if size == \"S\":\n",
    "   Bill = 15\n",
    "   if add_pepperoni == \"Y\":\n",
    "      Bill+=2\n",
    "   else:\n",
    "      Bill=Bill\n",
    "elif size==\"M\":\n",
    "    Bill=20\n",
    "    if add_pepperoni==\"Y\":\n",
    "      Bill+=3\n",
    "    else:\n",
    "      Bill = Bill\n",
    "else:\n",
    "    Bill=25\n",
    "    if add_pepperoni==\"Y\":\n",
    "      Bill+=3\n",
    "    else:\n",
    "      Bill = Bill\n",
    "if extra_cheese==\"Y\":\n",
    "   Bill+=1\n",
    "else:\n",
    "     Bill=Bill\n",
    "print(f\"Your final bill is: ${Bill}.\")\n",
    "\n",
    "\n"
   ]
  },
  {
   "cell_type": "code",
   "execution_count": null,
   "id": "95478f22",
   "metadata": {},
   "outputs": [],
   "source": []
  }
 ],
 "metadata": {
  "kernelspec": {
   "display_name": "Python 3 (ipykernel)",
   "language": "python",
   "name": "python3"
  },
  "language_info": {
   "codemirror_mode": {
    "name": "ipython",
    "version": 3
   },
   "file_extension": ".py",
   "mimetype": "text/x-python",
   "name": "python",
   "nbconvert_exporter": "python",
   "pygments_lexer": "ipython3",
   "version": "3.9.7"
  }
 },
 "nbformat": 4,
 "nbformat_minor": 5
}
